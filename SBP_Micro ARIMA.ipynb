{
  "cells": [
    {
      "cell_type": "markdown",
      "source": [
        "# ARIMA Time Series Forecasting\n",
        "\n",
        "## Introduction\n",
        "This project focuses on using the ARIMA model to forecast future values in a time series dataset. We will go through the steps of loading and cleaning the data, handling missing values, and building and evaluating the ARIMA model.\n",
        "\n",
        "## Step-by-Step Process\n",
        "\n",
        "### 1. Import Necessary Libraries"
      ],
      "metadata": {
        "id": "gu2a777nhjch"
      }
    },
    {
      "cell_type": "code",
      "execution_count": null,
      "metadata": {
        "id": "hdoo4IbNhfGC"
      },
      "outputs": [],
      "source": [
        "import numpy as np\n",
        "import pandas as pd\n",
        "import matplotlib.pyplot as plt\n",
        "import seaborn as sns\n",
        "from statsmodels.tsa.arima.model import ARIMA\n",
        "from sklearn.metrics import mean_squared_error, mean_absolute_error\n",
        "import warnings\n",
        "warnings.filterwarnings('ignore')\n"
      ]
    },
    {
      "cell_type": "markdown",
      "source": [
        "#***2. Load the Data***"
      ],
      "metadata": {
        "id": "Fq6w8NuPhsuD"
      }
    },
    {
      "cell_type": "code",
      "execution_count": null,
      "metadata": {
        "id": "6WzCyHHPhfGK",
        "outputId": "98d0b758-ee67-4f16-de6d-d6bb4439cbaf"
      },
      "outputs": [
        {
          "data": {
            "text/html": [
              "<div>\n",
              "<style scoped>\n",
              "    .dataframe tbody tr th:only-of-type {\n",
              "        vertical-align: middle;\n",
              "    }\n",
              "\n",
              "    .dataframe tbody tr th {\n",
              "        vertical-align: top;\n",
              "    }\n",
              "\n",
              "    .dataframe thead th {\n",
              "        text-align: right;\n",
              "    }\n",
              "</style>\n",
              "<table border=\"1\" class=\"dataframe\">\n",
              "  <thead>\n",
              "    <tr style=\"text-align: right;\">\n",
              "      <th></th>\n",
              "      <th>SubCounty</th>\n",
              "      <th>class</th>\n",
              "      <th>Year</th>\n",
              "      <th>PermitNo</th>\n",
              "      <th>ServiceHeaderID</th>\n",
              "      <th>DATE</th>\n",
              "      <th>CustomerName</th>\n",
              "      <th>pin</th>\n",
              "      <th>ServiceName</th>\n",
              "      <th>Amount</th>\n",
              "      <th>IssuedBy</th>\n",
              "      <th>BusinessActivity</th>\n",
              "      <th>Service Code</th>\n",
              "      <th>Ward</th>\n",
              "      <th>PhysicalLocation</th>\n",
              "      <th>DayOfWeek</th>\n",
              "      <th>Month</th>\n",
              "      <th>Column1</th>\n",
              "      <th>LogAmount</th>\n",
              "      <th>frequency</th>\n",
              "    </tr>\n",
              "  </thead>\n",
              "  <tbody>\n",
              "    <tr>\n",
              "      <th>0</th>\n",
              "      <td>Kesses</td>\n",
              "      <td>micro</td>\n",
              "      <td>2023</td>\n",
              "      <td>AVJK14WGU0</td>\n",
              "      <td>2846320</td>\n",
              "      <td>06/11/2023</td>\n",
              "      <td>BERUR    CHEMIST</td>\n",
              "      <td>A010342075J</td>\n",
              "      <td>723-Health Institutions/Services Health clinic...</td>\n",
              "      <td>4000.0</td>\n",
              "      <td>NANCY J KEMEI</td>\n",
              "      <td>CHEMIST</td>\n",
              "      <td>723</td>\n",
              "      <td>TULWET-CHUIYAT</td>\n",
              "      <td>Building: TALA  BUSINESS CENTRE, Floor: GROUND...</td>\n",
              "      <td>0</td>\n",
              "      <td>11</td>\n",
              "      <td>NaN</td>\n",
              "      <td>8.294300</td>\n",
              "      <td>1.0</td>\n",
              "    </tr>\n",
              "    <tr>\n",
              "      <th>1</th>\n",
              "      <td>Moiben</td>\n",
              "      <td>micro</td>\n",
              "      <td>2023</td>\n",
              "      <td>XZVT4NOA02</td>\n",
              "      <td>2846146</td>\n",
              "      <td>03/11/2023</td>\n",
              "      <td>TYCOON MWANGI</td>\n",
              "      <td>A018655361F</td>\n",
              "      <td>113-Small Boutique less than 2 employees and l...</td>\n",
              "      <td>2000.0</td>\n",
              "      <td>WIBERFORCE J WABUKO</td>\n",
              "      <td>BOUTIQUE</td>\n",
              "      <td>113</td>\n",
              "      <td>Kimumu</td>\n",
              "      <td>Building: N/A, Floor: GROUND FLOOR, Room: 1, R...</td>\n",
              "      <td>4</td>\n",
              "      <td>11</td>\n",
              "      <td>NaN</td>\n",
              "      <td>7.601402</td>\n",
              "      <td>1.0</td>\n",
              "    </tr>\n",
              "    <tr>\n",
              "      <th>2</th>\n",
              "      <td>SOY</td>\n",
              "      <td>micro</td>\n",
              "      <td>2023</td>\n",
              "      <td>1RZG3FWC5E</td>\n",
              "      <td>2846220</td>\n",
              "      <td>03/11/2023</td>\n",
              "      <td>CORNER PUB</td>\n",
              "      <td>A014102776K</td>\n",
              "      <td>567-Small Bar/Traditional Beer Seller up to 15...</td>\n",
              "      <td>4000.0</td>\n",
              "      <td>boaz  kiprotich</td>\n",
              "      <td>SMALL BAR</td>\n",
              "      <td>567</td>\n",
              "      <td>Ziwa</td>\n",
              "      <td>Building: CORNER HSE, Floor: 0, Room: 0, Road:</td>\n",
              "      <td>4</td>\n",
              "      <td>11</td>\n",
              "      <td>NaN</td>\n",
              "      <td>8.294300</td>\n",
              "      <td>1.0</td>\n",
              "    </tr>\n",
              "    <tr>\n",
              "      <th>3</th>\n",
              "      <td>Turbo</td>\n",
              "      <td>micro</td>\n",
              "      <td>2023</td>\n",
              "      <td>W5E30PJG4H</td>\n",
              "      <td>2791569</td>\n",
              "      <td>02/11/2023</td>\n",
              "      <td>KEJU</td>\n",
              "      <td>A003889655V</td>\n",
              "      <td>647-KINYOZI/SALON Small</td>\n",
              "      <td>3400.0</td>\n",
              "      <td>RICHARD  AMDANY</td>\n",
              "      <td>KINYOZI / SALON</td>\n",
              "      <td>647</td>\n",
              "      <td>Ngenyilel</td>\n",
              "      <td>Building: KEJU, Floor: 1, Room: 2, Road:</td>\n",
              "      <td>3</td>\n",
              "      <td>11</td>\n",
              "      <td>NaN</td>\n",
              "      <td>8.131825</td>\n",
              "      <td>1.0</td>\n",
              "    </tr>\n",
              "    <tr>\n",
              "      <th>4</th>\n",
              "      <td>Turbo</td>\n",
              "      <td>micro</td>\n",
              "      <td>2023</td>\n",
              "      <td>280RSZQCJE</td>\n",
              "      <td>2845836</td>\n",
              "      <td>02/11/2023</td>\n",
              "      <td>EDDIESCAPES POWER ENGINEERING SOLUTIONS COMPAN...</td>\n",
              "      <td>P052271153R</td>\n",
              "      <td>695-Other professional and technical services</td>\n",
              "      <td>3400.0</td>\n",
              "      <td>WABWIRE SIMIYU DAVID</td>\n",
              "      <td>ELECTRICAL INSTALLATIONS,CONSULTANCY &amp; SUPPLIES</td>\n",
              "      <td>695</td>\n",
              "      <td>Kiplombe</td>\n",
              "      <td>Building: N/A, Floor: GROUND FLOOR, Room: 1, R...</td>\n",
              "      <td>3</td>\n",
              "      <td>11</td>\n",
              "      <td>NaN</td>\n",
              "      <td>8.131825</td>\n",
              "      <td>1.0</td>\n",
              "    </tr>\n",
              "  </tbody>\n",
              "</table>\n",
              "</div>"
            ],
            "text/plain": [
              "  SubCounty  class  Year    PermitNo  ServiceHeaderID        DATE  \\\n",
              "0    Kesses  micro  2023  AVJK14WGU0          2846320  06/11/2023   \n",
              "1    Moiben  micro  2023  XZVT4NOA02          2846146  03/11/2023   \n",
              "2       SOY  micro  2023  1RZG3FWC5E          2846220  03/11/2023   \n",
              "3     Turbo  micro  2023  W5E30PJG4H          2791569  02/11/2023   \n",
              "4     Turbo  micro  2023  280RSZQCJE          2845836  02/11/2023   \n",
              "\n",
              "                                        CustomerName          pin  \\\n",
              "0                                   BERUR    CHEMIST  A010342075J   \n",
              "1                                      TYCOON MWANGI  A018655361F   \n",
              "2                                         CORNER PUB  A014102776K   \n",
              "3                                               KEJU  A003889655V   \n",
              "4  EDDIESCAPES POWER ENGINEERING SOLUTIONS COMPAN...  P052271153R   \n",
              "\n",
              "                                         ServiceName  Amount  \\\n",
              "0  723-Health Institutions/Services Health clinic...  4000.0   \n",
              "1  113-Small Boutique less than 2 employees and l...  2000.0   \n",
              "2  567-Small Bar/Traditional Beer Seller up to 15...  4000.0   \n",
              "3                            647-KINYOZI/SALON Small  3400.0   \n",
              "4      695-Other professional and technical services  3400.0   \n",
              "\n",
              "               IssuedBy                                 BusinessActivity  \\\n",
              "0         NANCY J KEMEI                                          CHEMIST   \n",
              "1   WIBERFORCE J WABUKO                                         BOUTIQUE   \n",
              "2       boaz  kiprotich                                        SMALL BAR   \n",
              "3       RICHARD  AMDANY                                  KINYOZI / SALON   \n",
              "4  WABWIRE SIMIYU DAVID  ELECTRICAL INSTALLATIONS,CONSULTANCY & SUPPLIES   \n",
              "\n",
              "  Service Code             Ward  \\\n",
              "0          723  TULWET-CHUIYAT    \n",
              "1          113           Kimumu   \n",
              "2          567             Ziwa   \n",
              "3          647        Ngenyilel   \n",
              "4          695         Kiplombe   \n",
              "\n",
              "                                    PhysicalLocation DayOfWeek  Month  \\\n",
              "0  Building: TALA  BUSINESS CENTRE, Floor: GROUND...         0     11   \n",
              "1  Building: N/A, Floor: GROUND FLOOR, Room: 1, R...         4     11   \n",
              "2    Building: CORNER HSE, Floor: 0, Room: 0, Road:          4     11   \n",
              "3          Building: KEJU, Floor: 1, Room: 2, Road:          3     11   \n",
              "4  Building: N/A, Floor: GROUND FLOOR, Room: 1, R...         3     11   \n",
              "\n",
              "   Column1  LogAmount  frequency  \n",
              "0      NaN   8.294300        1.0  \n",
              "1      NaN   7.601402        1.0  \n",
              "2      NaN   8.294300        1.0  \n",
              "3      NaN   8.131825        1.0  \n",
              "4      NaN   8.131825        1.0  "
            ]
          },
          "execution_count": 3,
          "metadata": {},
          "output_type": "execute_result"
        }
      ],
      "source": [
        "data = pd.read_csv('modified_working_data.csv')\n",
        "data.head()"
      ]
    },
    {
      "cell_type": "markdown",
      "source": [
        "***3. Data Cleaning***\n",
        "\n",
        "\n",
        "---\n",
        "\n",
        "\n",
        "Drop unnecessary columns to simplify the dataset."
      ],
      "metadata": {
        "id": "EfBJrWrxh1rh"
      }
    },
    {
      "cell_type": "code",
      "execution_count": null,
      "metadata": {
        "id": "OG8H_ZD0hfGO"
      },
      "outputs": [],
      "source": [
        "to_drop=['SubCounty','LogAmount','frequency','Year','PermitNo','ServiceHeaderID','pin','CustomerName','ServiceName','IssuedBy','BusinessActivity','Service Code','Ward','PhysicalLocation','DayOfWeek','Month','Column1']\n",
        "data.drop(to_drop,inplace=True,axis=1)"
      ]
    },
    {
      "cell_type": "code",
      "execution_count": null,
      "metadata": {
        "id": "bvcEtFkqhfGP",
        "outputId": "7c6204e6-b1f3-4f53-a636-8ee4949848a3"
      },
      "outputs": [
        {
          "data": {
            "text/html": [
              "<div>\n",
              "<style scoped>\n",
              "    .dataframe tbody tr th:only-of-type {\n",
              "        vertical-align: middle;\n",
              "    }\n",
              "\n",
              "    .dataframe tbody tr th {\n",
              "        vertical-align: top;\n",
              "    }\n",
              "\n",
              "    .dataframe thead th {\n",
              "        text-align: right;\n",
              "    }\n",
              "</style>\n",
              "<table border=\"1\" class=\"dataframe\">\n",
              "  <thead>\n",
              "    <tr style=\"text-align: right;\">\n",
              "      <th></th>\n",
              "      <th>class</th>\n",
              "      <th>DATE</th>\n",
              "      <th>Amount</th>\n",
              "    </tr>\n",
              "  </thead>\n",
              "  <tbody>\n",
              "    <tr>\n",
              "      <th>0</th>\n",
              "      <td>micro</td>\n",
              "      <td>06/11/2023</td>\n",
              "      <td>4000.0</td>\n",
              "    </tr>\n",
              "    <tr>\n",
              "      <th>1</th>\n",
              "      <td>micro</td>\n",
              "      <td>03/11/2023</td>\n",
              "      <td>2000.0</td>\n",
              "    </tr>\n",
              "    <tr>\n",
              "      <th>2</th>\n",
              "      <td>micro</td>\n",
              "      <td>03/11/2023</td>\n",
              "      <td>4000.0</td>\n",
              "    </tr>\n",
              "    <tr>\n",
              "      <th>3</th>\n",
              "      <td>micro</td>\n",
              "      <td>02/11/2023</td>\n",
              "      <td>3400.0</td>\n",
              "    </tr>\n",
              "    <tr>\n",
              "      <th>4</th>\n",
              "      <td>micro</td>\n",
              "      <td>02/11/2023</td>\n",
              "      <td>3400.0</td>\n",
              "    </tr>\n",
              "  </tbody>\n",
              "</table>\n",
              "</div>"
            ],
            "text/plain": [
              "   class        DATE  Amount\n",
              "0  micro  06/11/2023  4000.0\n",
              "1  micro  03/11/2023  2000.0\n",
              "2  micro  03/11/2023  4000.0\n",
              "3  micro  02/11/2023  3400.0\n",
              "4  micro  02/11/2023  3400.0"
            ]
          },
          "execution_count": 5,
          "metadata": {},
          "output_type": "execute_result"
        }
      ],
      "source": [
        "data.head()"
      ]
    },
    {
      "cell_type": "markdown",
      "source": [
        "#***4. Group and Save Data by Class***\n",
        "\n",
        "---\n",
        "\n",
        "\n",
        "\n",
        "Group the dataset by the \"class\" column and save each group to a separate CSV file."
      ],
      "metadata": {
        "id": "fPG6zcqqiBxY"
      }
    },
    {
      "cell_type": "code",
      "execution_count": null,
      "metadata": {
        "id": "Ty9XUJZMhfGS"
      },
      "outputs": [],
      "source": [
        "# Group the dataset by the \"class\" column\n",
        "grouped = data.groupby(\"class\")\n",
        "\n",
        "# Iterate over each group\n",
        "for group_name, group_data in grouped:\n",
        "    # Define the filename for this group\n",
        "    filename = f\"{group_name}.csv\"\n",
        "\n",
        "    # Save the group data to a CSV file\n",
        "    group_data.to_csv(filename, index=False)\n"
      ]
    },
    {
      "cell_type": "markdown",
      "source": [
        "#***5. Load the 'Micro' Class Data***"
      ],
      "metadata": {
        "id": "am287QT9iKyF"
      }
    },
    {
      "cell_type": "code",
      "execution_count": null,
      "metadata": {
        "id": "LlFQ56yJhfGS",
        "outputId": "f0289188-b1e9-4dff-d823-ed388b1fe4e2"
      },
      "outputs": [
        {
          "data": {
            "text/html": [
              "<div>\n",
              "<style scoped>\n",
              "    .dataframe tbody tr th:only-of-type {\n",
              "        vertical-align: middle;\n",
              "    }\n",
              "\n",
              "    .dataframe tbody tr th {\n",
              "        vertical-align: top;\n",
              "    }\n",
              "\n",
              "    .dataframe thead th {\n",
              "        text-align: right;\n",
              "    }\n",
              "</style>\n",
              "<table border=\"1\" class=\"dataframe\">\n",
              "  <thead>\n",
              "    <tr style=\"text-align: right;\">\n",
              "      <th></th>\n",
              "      <th>Amount</th>\n",
              "    </tr>\n",
              "  </thead>\n",
              "  <tbody>\n",
              "    <tr>\n",
              "      <th>count</th>\n",
              "      <td>31378.000000</td>\n",
              "    </tr>\n",
              "    <tr>\n",
              "      <th>mean</th>\n",
              "      <td>3274.726560</td>\n",
              "    </tr>\n",
              "    <tr>\n",
              "      <th>std</th>\n",
              "      <td>799.540302</td>\n",
              "    </tr>\n",
              "    <tr>\n",
              "      <th>min</th>\n",
              "      <td>520.000000</td>\n",
              "    </tr>\n",
              "    <tr>\n",
              "      <th>25%</th>\n",
              "      <td>2800.000000</td>\n",
              "    </tr>\n",
              "    <tr>\n",
              "      <th>50%</th>\n",
              "      <td>3400.000000</td>\n",
              "    </tr>\n",
              "    <tr>\n",
              "      <th>75%</th>\n",
              "      <td>4000.000000</td>\n",
              "    </tr>\n",
              "    <tr>\n",
              "      <th>max</th>\n",
              "      <td>4000.000000</td>\n",
              "    </tr>\n",
              "  </tbody>\n",
              "</table>\n",
              "</div>"
            ],
            "text/plain": [
              "             Amount\n",
              "count  31378.000000\n",
              "mean    3274.726560\n",
              "std      799.540302\n",
              "min      520.000000\n",
              "25%     2800.000000\n",
              "50%     3400.000000\n",
              "75%     4000.000000\n",
              "max     4000.000000"
            ]
          },
          "execution_count": 7,
          "metadata": {},
          "output_type": "execute_result"
        }
      ],
      "source": [
        "df=pd.read_csv('micro.csv')\n",
        "df.describe()"
      ]
    },
    {
      "cell_type": "markdown",
      "source": [
        "#***6. Convert 'DATE' to Datetime Format***\n",
        "\n",
        "Ensure the 'DATE' column is in the correct format."
      ],
      "metadata": {
        "id": "6eZ2zTi7iW72"
      }
    },
    {
      "cell_type": "code",
      "execution_count": null,
      "metadata": {
        "id": "bWQUOOxOhfGT"
      },
      "outputs": [],
      "source": [
        "df['DATE'] = pd.to_datetime(df['DATE'], dayfirst=True).dt.strftime('%Y-%m-%d')\n"
      ]
    },
    {
      "cell_type": "markdown",
      "source": [
        "#***7. Drop 'class' Column and Set Index***"
      ],
      "metadata": {
        "id": "EMh04q8Cisc1"
      }
    },
    {
      "cell_type": "code",
      "execution_count": null,
      "metadata": {
        "id": "uYfcoU_MhfGV",
        "outputId": "87f71ed9-c5c8-477d-89e5-6077cd5f51ea"
      },
      "outputs": [
        {
          "data": {
            "text/html": [
              "<div>\n",
              "<style scoped>\n",
              "    .dataframe tbody tr th:only-of-type {\n",
              "        vertical-align: middle;\n",
              "    }\n",
              "\n",
              "    .dataframe tbody tr th {\n",
              "        vertical-align: top;\n",
              "    }\n",
              "\n",
              "    .dataframe thead th {\n",
              "        text-align: right;\n",
              "    }\n",
              "</style>\n",
              "<table border=\"1\" class=\"dataframe\">\n",
              "  <thead>\n",
              "    <tr style=\"text-align: right;\">\n",
              "      <th></th>\n",
              "      <th>DATE</th>\n",
              "      <th>Amount</th>\n",
              "    </tr>\n",
              "  </thead>\n",
              "  <tbody>\n",
              "    <tr>\n",
              "      <th>0</th>\n",
              "      <td>2023-11-06</td>\n",
              "      <td>4000.0</td>\n",
              "    </tr>\n",
              "    <tr>\n",
              "      <th>1</th>\n",
              "      <td>2023-11-03</td>\n",
              "      <td>2000.0</td>\n",
              "    </tr>\n",
              "    <tr>\n",
              "      <th>2</th>\n",
              "      <td>2023-11-03</td>\n",
              "      <td>4000.0</td>\n",
              "    </tr>\n",
              "    <tr>\n",
              "      <th>3</th>\n",
              "      <td>2023-11-02</td>\n",
              "      <td>3400.0</td>\n",
              "    </tr>\n",
              "    <tr>\n",
              "      <th>4</th>\n",
              "      <td>2023-11-02</td>\n",
              "      <td>3400.0</td>\n",
              "    </tr>\n",
              "    <tr>\n",
              "      <th>...</th>\n",
              "      <td>...</td>\n",
              "      <td>...</td>\n",
              "    </tr>\n",
              "    <tr>\n",
              "      <th>31373</th>\n",
              "      <td>2016-03-01</td>\n",
              "      <td>2000.0</td>\n",
              "    </tr>\n",
              "    <tr>\n",
              "      <th>31374</th>\n",
              "      <td>2016-03-01</td>\n",
              "      <td>4000.0</td>\n",
              "    </tr>\n",
              "    <tr>\n",
              "      <th>31375</th>\n",
              "      <td>2016-02-27</td>\n",
              "      <td>3400.0</td>\n",
              "    </tr>\n",
              "    <tr>\n",
              "      <th>31376</th>\n",
              "      <td>2016-02-26</td>\n",
              "      <td>2000.0</td>\n",
              "    </tr>\n",
              "    <tr>\n",
              "      <th>31377</th>\n",
              "      <td>2016-02-24</td>\n",
              "      <td>4000.0</td>\n",
              "    </tr>\n",
              "  </tbody>\n",
              "</table>\n",
              "<p>31378 rows × 2 columns</p>\n",
              "</div>"
            ],
            "text/plain": [
              "             DATE  Amount\n",
              "0      2023-11-06  4000.0\n",
              "1      2023-11-03  2000.0\n",
              "2      2023-11-03  4000.0\n",
              "3      2023-11-02  3400.0\n",
              "4      2023-11-02  3400.0\n",
              "...           ...     ...\n",
              "31373  2016-03-01  2000.0\n",
              "31374  2016-03-01  4000.0\n",
              "31375  2016-02-27  3400.0\n",
              "31376  2016-02-26  2000.0\n",
              "31377  2016-02-24  4000.0\n",
              "\n",
              "[31378 rows x 2 columns]"
            ]
          },
          "execution_count": 9,
          "metadata": {},
          "output_type": "execute_result"
        }
      ],
      "source": [
        "df.drop(columns='class')"
      ]
    },
    {
      "cell_type": "code",
      "execution_count": null,
      "metadata": {
        "id": "zJmoGi0ShfGX"
      },
      "outputs": [],
      "source": [
        "df.set_index('DATE', inplace=True)\n",
        "df.sort_index(inplace=True)\n"
      ]
    },
    {
      "cell_type": "markdown",
      "source": [
        "#***8. Visualize Data Distribution***\n",
        "\n",
        "Check the distribution and presence of outliers."
      ],
      "metadata": {
        "id": "vImRHJCgi2UQ"
      }
    },
    {
      "cell_type": "code",
      "execution_count": null,
      "metadata": {
        "id": "GIL9SU1OhfGa",
        "outputId": "ff1da02e-7dcf-4a20-8f1a-619cfaf0c430"
      },
      "outputs": [
        {
          "data": {
            "text/plain": [
              "<AxesSubplot: xlabel='Amount', ylabel='Density'>"
            ]
          },
          "execution_count": 13,
          "metadata": {},
          "output_type": "execute_result"
        },
        {
          "data": {
            "image/png": "[encoded data removed]",
            "text/plain": [
              "<Figure size 640x480 with 1 Axes>"
            ]
          },
          "metadata": {},
          "output_type": "display_data"
        }
      ],
      "source": [
        "sns.distplot(df['Amount'])"
      ]
    },
    {
      "cell_type": "code",
      "execution_count": null,
      "metadata": {
        "id": "DINkoIuihfGc",
        "outputId": "3caca58d-ac5a-4424-8fdb-44934c2de0ac"
      },
      "outputs": [
        {
          "data": {
            "text/plain": [
              "<AxesSubplot: ylabel='Amount'>"
            ]
          },
          "execution_count": 14,
          "metadata": {},
          "output_type": "execute_result"
        },
        {
          "data": {
            "image/png": "[encoded data removed]",
            "text/plain": [
              "<Figure size 640x480 with 1 Axes>"
            ]
          },
          "metadata": {},
          "output_type": "display_data"
        }
      ],
      "source": [
        "sns.boxplot(y='Amount',data=df)"
      ]
    },
    {
      "cell_type": "code",
      "execution_count": null,
      "metadata": {
        "id": "cXPqzoA6hfGf",
        "outputId": "ac84f59b-5fe2-42e4-ad2c-4aa2031a0e78"
      },
      "outputs": [
        {
          "data": {
            "text/html": [
              "<div>\n",
              "<style scoped>\n",
              "    .dataframe tbody tr th:only-of-type {\n",
              "        vertical-align: middle;\n",
              "    }\n",
              "\n",
              "    .dataframe tbody tr th {\n",
              "        vertical-align: top;\n",
              "    }\n",
              "\n",
              "    .dataframe thead th {\n",
              "        text-align: right;\n",
              "    }\n",
              "</style>\n",
              "<table border=\"1\" class=\"dataframe\">\n",
              "  <thead>\n",
              "    <tr style=\"text-align: right;\">\n",
              "      <th></th>\n",
              "      <th>Amount</th>\n",
              "    </tr>\n",
              "  </thead>\n",
              "  <tbody>\n",
              "    <tr>\n",
              "      <th>count</th>\n",
              "      <td>31378.000000</td>\n",
              "    </tr>\n",
              "    <tr>\n",
              "      <th>mean</th>\n",
              "      <td>3274.726560</td>\n",
              "    </tr>\n",
              "    <tr>\n",
              "      <th>std</th>\n",
              "      <td>799.540302</td>\n",
              "    </tr>\n",
              "    <tr>\n",
              "      <th>min</th>\n",
              "      <td>520.000000</td>\n",
              "    </tr>\n",
              "    <tr>\n",
              "      <th>25%</th>\n",
              "      <td>2800.000000</td>\n",
              "    </tr>\n",
              "    <tr>\n",
              "      <th>50%</th>\n",
              "      <td>3400.000000</td>\n",
              "    </tr>\n",
              "    <tr>\n",
              "      <th>75%</th>\n",
              "      <td>4000.000000</td>\n",
              "    </tr>\n",
              "    <tr>\n",
              "      <th>max</th>\n",
              "      <td>4000.000000</td>\n",
              "    </tr>\n",
              "  </tbody>\n",
              "</table>\n",
              "</div>"
            ],
            "text/plain": [
              "             Amount\n",
              "count  31378.000000\n",
              "mean    3274.726560\n",
              "std      799.540302\n",
              "min      520.000000\n",
              "25%     2800.000000\n",
              "50%     3400.000000\n",
              "75%     4000.000000\n",
              "max     4000.000000"
            ]
          },
          "execution_count": 15,
          "metadata": {},
          "output_type": "execute_result"
        }
      ],
      "source": [
        "df.describe()"
      ]
    },
    {
      "cell_type": "markdown",
      "source": [
        "#***9. Remove Outliers***\n",
        "\n",
        "Calculate the IQR and filter out the outliers."
      ],
      "metadata": {
        "id": "fF3fkfJUi_B6"
      }
    },
    {
      "cell_type": "code",
      "execution_count": null,
      "metadata": {
        "id": "_p24zT5chfGg",
        "outputId": "7a24b0fb-1ebe-407b-e379-2b2a2b20b7f0"
      },
      "outputs": [
        {
          "data": {
            "text/plain": [
              "(1000.0, 5800.0)"
            ]
          },
          "execution_count": 16,
          "metadata": {},
          "output_type": "execute_result"
        }
      ],
      "source": [
        "Q1=2800\n",
        "Q3=4000\n",
        "IQR=Q3-Q1\n",
        "lower_lim=Q1-1.5*IQR\n",
        "upper_lim=Q3+1.5*IQR\n",
        "lower_lim,upper_lim"
      ]
    },
    {
      "cell_type": "code",
      "execution_count": null,
      "metadata": {
        "id": "PahzOEiwhfGh",
        "outputId": "afaceda9-572d-4361-848a-c27927473980"
      },
      "outputs": [
        {
          "data": {
            "text/html": [
              "<div>\n",
              "<style scoped>\n",
              "    .dataframe tbody tr th:only-of-type {\n",
              "        vertical-align: middle;\n",
              "    }\n",
              "\n",
              "    .dataframe tbody tr th {\n",
              "        vertical-align: top;\n",
              "    }\n",
              "\n",
              "    .dataframe thead th {\n",
              "        text-align: right;\n",
              "    }\n",
              "</style>\n",
              "<table border=\"1\" class=\"dataframe\">\n",
              "  <thead>\n",
              "    <tr style=\"text-align: right;\">\n",
              "      <th></th>\n",
              "      <th>class</th>\n",
              "      <th>Amount</th>\n",
              "    </tr>\n",
              "    <tr>\n",
              "      <th>DATE</th>\n",
              "      <th></th>\n",
              "      <th></th>\n",
              "    </tr>\n",
              "  </thead>\n",
              "  <tbody>\n",
              "    <tr>\n",
              "      <th>2017-01-27</th>\n",
              "      <td>micro</td>\n",
              "      <td>800.0</td>\n",
              "    </tr>\n",
              "    <tr>\n",
              "      <th>2017-05-31</th>\n",
              "      <td>micro</td>\n",
              "      <td>800.0</td>\n",
              "    </tr>\n",
              "    <tr>\n",
              "      <th>2017-07-14</th>\n",
              "      <td>micro</td>\n",
              "      <td>520.0</td>\n",
              "    </tr>\n",
              "  </tbody>\n",
              "</table>\n",
              "</div>"
            ],
            "text/plain": [
              "            class  Amount\n",
              "DATE                     \n",
              "2017-01-27  micro   800.0\n",
              "2017-05-31  micro   800.0\n",
              "2017-07-14  micro   520.0"
            ]
          },
          "execution_count": 17,
          "metadata": {},
          "output_type": "execute_result"
        }
      ],
      "source": [
        "#printinng the outliers\n",
        "df[(df.Amount<lower_lim)|(df.Amount>upper_lim)]"
      ]
    },
    {
      "cell_type": "code",
      "execution_count": null,
      "metadata": {
        "id": "nvu03bSRhfGi",
        "outputId": "9500f035-1988-48eb-e976-e0b8bbef0caa"
      },
      "outputs": [
        {
          "name": "stdout",
          "output_type": "stream",
          "text": [
            "Old data: 31378\n",
            "New data: 31375\n"
          ]
        }
      ],
      "source": [
        "new_df=df.loc[(df['Amount']>lower_lim)]\n",
        "print('Old data:',len(df))\n",
        "print('New data:',len(new_df))\n",
        "\n"
      ]
    },
    {
      "cell_type": "code",
      "execution_count": null,
      "metadata": {
        "id": "q9tHJi7OhfGj",
        "outputId": "ec9bbd2f-5a93-4ccf-c67a-cf2d25b42ecc"
      },
      "outputs": [
        {
          "data": {
            "text/plain": [
              "<AxesSubplot: ylabel='Amount'>"
            ]
          },
          "execution_count": 19,
          "metadata": {},
          "output_type": "execute_result"
        },
        {
          "data": {
            "image/png": "[encoded data removed]",
            "text/plain": [
              "<Figure size 640x480 with 1 Axes>"
            ]
          },
          "metadata": {},
          "output_type": "display_data"
        }
      ],
      "source": [
        "sns.boxplot(y='Amount',data=new_df)"
      ]
    },
    {
      "cell_type": "markdown",
      "metadata": {
        "id": "79xUjOTVhfGk"
      },
      "source": [
        "#***10. Check for Stationarity***\n",
        "\n",
        "Perform the Augmented Dickey-Fuller test to check for stationarity."
      ]
    },
    {
      "cell_type": "code",
      "execution_count": null,
      "metadata": {
        "id": "V6UeKhBlhfGo"
      },
      "outputs": [],
      "source": [
        "from statsmodels.tsa.stattools import adfuller\n",
        "\n",
        "def adf_test(dataset):\n",
        "  dftest = adfuller(dataset, autolag = 'AIC')\n",
        "  print(\"1. ADF : \",dftest[0])\n",
        "  print(\"2. P-Value : \", dftest[1])\n",
        "  print(\"3. Num Of Lags : \", dftest[2])\n",
        "  print(\"4. Num Of Observations Used For ADF Regression and Critical Values Calculation :\", dftest[3])\n",
        "  print(\"5. Critical Values :\")\n",
        "  for key, val in dftest[4].items():\n",
        "      print(\"\\t\",key, \": \", val)"
      ]
    },
    {
      "cell_type": "code",
      "execution_count": null,
      "metadata": {
        "id": "kOVcgfNihfGp",
        "outputId": "4a0e09c9-599c-4fd3-ddc5-e2b6acaf688d"
      },
      "outputs": [
        {
          "name": "stdout",
          "output_type": "stream",
          "text": [
            "1. ADF :  -13.206003041192485\n",
            "2. P-Value :  1.0705379300528574e-24\n",
            "3. Num Of Lags :  51\n",
            "4. Num Of Observations Used For ADF Regression and Critical Values Calculation : 31326\n",
            "5. Critical Values :\n",
            "\t 1% :  -3.430558767028339\n",
            "\t 5% :  -2.861632269526914\n",
            "\t 10% :  -2.566819112228498\n"
          ]
        }
      ],
      "source": [
        "adf_test(df['Amount'])"
      ]
    },
    {
      "cell_type": "markdown",
      "metadata": {
        "id": "ocVV02zShfGq"
      },
      "source": [
        "#Check out best order for Arima MOdel"
      ]
    },
    {
      "cell_type": "code",
      "execution_count": null,
      "metadata": {
        "id": "fy8Z9HsKhfGq",
        "outputId": "69e6331c-2f6b-4ca8-f1ad-fb5e24471e1a"
      },
      "outputs": [
        {
          "data": {
            "text/html": [
              "<table class=\"simpletable\">\n",
              "<caption>SARIMAX Results</caption>\n",
              "<tr>\n",
              "  <th>Dep. Variable:</th>           <td>y</td>        <th>  No. Observations:  </th>    <td>31378</td>   \n",
              "</tr>\n",
              "<tr>\n",
              "  <th>Model:</th>           <td>SARIMAX(5, 1, 0)</td> <th>  Log Likelihood     </th> <td>-255560.558</td>\n",
              "</tr>\n",
              "<tr>\n",
              "  <th>Date:</th>            <td>Sun, 09 Jun 2024</td> <th>  AIC                </th> <td>511133.116</td> \n",
              "</tr>\n",
              "<tr>\n",
              "  <th>Time:</th>                <td>16:28:07</td>     <th>  BIC                </th> <td>511183.239</td> \n",
              "</tr>\n",
              "<tr>\n",
              "  <th>Sample:</th>                  <td>0</td>        <th>  HQIC               </th> <td>511149.164</td> \n",
              "</tr>\n",
              "<tr>\n",
              "  <th></th>                     <td> - 31378</td>     <th>                     </th>      <td> </td>     \n",
              "</tr>\n",
              "<tr>\n",
              "  <th>Covariance Type:</th>        <td>opg</td>       <th>                     </th>      <td> </td>     \n",
              "</tr>\n",
              "</table>\n",
              "<table class=\"simpletable\">\n",
              "<tr>\n",
              "     <td></td>       <th>coef</th>     <th>std err</th>      <th>z</th>      <th>P>|z|</th>  <th>[0.025</th>    <th>0.975]</th>  \n",
              "</tr>\n",
              "<tr>\n",
              "  <th>ar.L1</th>  <td>   -0.8173</td> <td>    0.006</td> <td> -146.666</td> <td> 0.000</td> <td>   -0.828</td> <td>   -0.806</td>\n",
              "</tr>\n",
              "<tr>\n",
              "  <th>ar.L2</th>  <td>   -0.6542</td> <td>    0.007</td> <td>  -92.506</td> <td> 0.000</td> <td>   -0.668</td> <td>   -0.640</td>\n",
              "</tr>\n",
              "<tr>\n",
              "  <th>ar.L3</th>  <td>   -0.4886</td> <td>    0.007</td> <td>  -65.619</td> <td> 0.000</td> <td>   -0.503</td> <td>   -0.474</td>\n",
              "</tr>\n",
              "<tr>\n",
              "  <th>ar.L4</th>  <td>   -0.3253</td> <td>    0.007</td> <td>  -46.115</td> <td> 0.000</td> <td>   -0.339</td> <td>   -0.312</td>\n",
              "</tr>\n",
              "<tr>\n",
              "  <th>ar.L5</th>  <td>   -0.1561</td> <td>    0.006</td> <td>  -27.979</td> <td> 0.000</td> <td>   -0.167</td> <td>   -0.145</td>\n",
              "</tr>\n",
              "<tr>\n",
              "  <th>sigma2</th> <td> 6.951e+05</td> <td> 6730.076</td> <td>  103.277</td> <td> 0.000</td> <td> 6.82e+05</td> <td> 7.08e+05</td>\n",
              "</tr>\n",
              "</table>\n",
              "<table class=\"simpletable\">\n",
              "<tr>\n",
              "  <th>Ljung-Box (L1) (Q):</th>     <td>15.65</td> <th>  Jarque-Bera (JB):  </th> <td>1768.68</td>\n",
              "</tr>\n",
              "<tr>\n",
              "  <th>Prob(Q):</th>                <td>0.00</td>  <th>  Prob(JB):          </th>  <td>0.00</td>  \n",
              "</tr>\n",
              "<tr>\n",
              "  <th>Heteroskedasticity (H):</th> <td>0.84</td>  <th>  Skew:              </th>  <td>-0.49</td> \n",
              "</tr>\n",
              "<tr>\n",
              "  <th>Prob(H) (two-sided):</th>    <td>0.00</td>  <th>  Kurtosis:          </th>  <td>2.36</td>  \n",
              "</tr>\n",
              "</table><br/><br/>Warnings:<br/>[1] Covariance matrix calculated using the outer product of gradients (complex-step)."
            ],
            "text/latex": [
              "\\begin{center}\n",
              "\\begin{tabular}{lclc}\n",
              "\\toprule\n",
              "\\textbf{Dep. Variable:}          &        y         & \\textbf{  No. Observations:  } &    31378     \\\\\n",
              "\\textbf{Model:}                  & SARIMAX(5, 1, 0) & \\textbf{  Log Likelihood     } & -255560.558  \\\\\n",
              "\\textbf{Date:}                   & Sun, 09 Jun 2024 & \\textbf{  AIC                } &  511133.116  \\\\\n",
              "\\textbf{Time:}                   &     16:28:07     & \\textbf{  BIC                } &  511183.239  \\\\\n",
              "\\textbf{Sample:}                 &        0         & \\textbf{  HQIC               } &  511149.164  \\\\\n",
              "\\textbf{}                        &      - 31378     & \\textbf{                     } &              \\\\\n",
              "\\textbf{Covariance Type:}        &       opg        & \\textbf{                     } &              \\\\\n",
              "\\bottomrule\n",
              "\\end{tabular}\n",
              "\\begin{tabular}{lcccccc}\n",
              "                & \\textbf{coef} & \\textbf{std err} & \\textbf{z} & \\textbf{P$> |$z$|$} & \\textbf{[0.025} & \\textbf{0.975]}  \\\\\n",
              "\\midrule\n",
              "\\textbf{ar.L1}  &      -0.8173  &        0.006     &  -146.666  &         0.000        &       -0.828    &       -0.806     \\\\\n",
              "\\textbf{ar.L2}  &      -0.6542  &        0.007     &   -92.506  &         0.000        &       -0.668    &       -0.640     \\\\\n",
              "\\textbf{ar.L3}  &      -0.4886  &        0.007     &   -65.619  &         0.000        &       -0.503    &       -0.474     \\\\\n",
              "\\textbf{ar.L4}  &      -0.3253  &        0.007     &   -46.115  &         0.000        &       -0.339    &       -0.312     \\\\\n",
              "\\textbf{ar.L5}  &      -0.1561  &        0.006     &   -27.979  &         0.000        &       -0.167    &       -0.145     \\\\\n",
              "\\textbf{sigma2} &    6.951e+05  &     6730.076     &   103.277  &         0.000        &     6.82e+05    &     7.08e+05     \\\\\n",
              "\\bottomrule\n",
              "\\end{tabular}\n",
              "\\begin{tabular}{lclc}\n",
              "\\textbf{Ljung-Box (L1) (Q):}     & 15.65 & \\textbf{  Jarque-Bera (JB):  } & 1768.68  \\\\\n",
              "\\textbf{Prob(Q):}                &  0.00 & \\textbf{  Prob(JB):          } &   0.00   \\\\\n",
              "\\textbf{Heteroskedasticity (H):} &  0.84 & \\textbf{  Skew:              } &  -0.49   \\\\\n",
              "\\textbf{Prob(H) (two-sided):}    &  0.00 & \\textbf{  Kurtosis:          } &   2.36   \\\\\n",
              "\\bottomrule\n",
              "\\end{tabular}\n",
              "%\\caption{SARIMAX Results}\n",
              "\\end{center}\n",
              "\n",
              "Warnings: \\newline\n",
              " [1] Covariance matrix calculated using the outer product of gradients (complex-step)."
            ],
            "text/plain": [
              "<class 'statsmodels.iolib.summary.Summary'>\n",
              "\"\"\"\n",
              "                               SARIMAX Results                                \n",
              "==============================================================================\n",
              "Dep. Variable:                      y   No. Observations:                31378\n",
              "Model:               SARIMAX(5, 1, 0)   Log Likelihood             -255560.558\n",
              "Date:                Sun, 09 Jun 2024   AIC                         511133.116\n",
              "Time:                        16:28:07   BIC                         511183.239\n",
              "Sample:                             0   HQIC                        511149.164\n",
              "                              - 31378                                         \n",
              "Covariance Type:                  opg                                         \n",
              "==============================================================================\n",
              "                 coef    std err          z      P>|z|      [0.025      0.975]\n",
              "------------------------------------------------------------------------------\n",
              "ar.L1         -0.8173      0.006   -146.666      0.000      -0.828      -0.806\n",
              "ar.L2         -0.6542      0.007    -92.506      0.000      -0.668      -0.640\n",
              "ar.L3         -0.4886      0.007    -65.619      0.000      -0.503      -0.474\n",
              "ar.L4         -0.3253      0.007    -46.115      0.000      -0.339      -0.312\n",
              "ar.L5         -0.1561      0.006    -27.979      0.000      -0.167      -0.145\n",
              "sigma2      6.951e+05   6730.076    103.277      0.000    6.82e+05    7.08e+05\n",
              "===================================================================================\n",
              "Ljung-Box (L1) (Q):                  15.65   Jarque-Bera (JB):              1768.68\n",
              "Prob(Q):                              0.00   Prob(JB):                         0.00\n",
              "Heteroskedasticity (H):               0.84   Skew:                            -0.49\n",
              "Prob(H) (two-sided):                  0.00   Kurtosis:                         2.36\n",
              "===================================================================================\n",
              "\n",
              "Warnings:\n",
              "[1] Covariance matrix calculated using the outer product of gradients (complex-step).\n",
              "\"\"\""
            ]
          },
          "execution_count": 22,
          "metadata": {},
          "output_type": "execute_result"
        }
      ],
      "source": [
        "from pmdarima import auto_arima\n",
        "stepwise_fit = auto_arima(df['Amount'],\n",
        "                          suppress_warnings=True)\n",
        "\n",
        "stepwise_fit.summary()"
      ]
    },
    {
      "cell_type": "markdown",
      "source": [
        "#***12. Split the Data into Training and Testing Sets***"
      ],
      "metadata": {
        "id": "mY5_jIPMjmXV"
      }
    },
    {
      "cell_type": "code",
      "execution_count": null,
      "metadata": {
        "id": "OekIL3ulhfGr"
      },
      "outputs": [],
      "source": [
        "split_date = '2021-06-09'\n",
        "train_data = df.loc[:split_date, 'Amount']\n",
        "test_data = df.loc[split_date:, 'Amount']"
      ]
    },
    {
      "cell_type": "markdown",
      "source": [
        "#***13. Fit ARIMA Model***\n",
        "\n",
        "Fit the ARIMA model on the training data."
      ],
      "metadata": {
        "id": "PAu3IVIRjvGk"
      }
    },
    {
      "cell_type": "code",
      "execution_count": null,
      "metadata": {
        "id": "8R5n3geNhfGs"
      },
      "outputs": [],
      "source": [
        "# Fit ARIMA model\n",
        "order = (5, 1, 0)\n",
        "model = ARIMA(train_data, order=order)\n",
        "fitted_model = model.fit()\n"
      ]
    },
    {
      "cell_type": "markdown",
      "source": [
        "#***14. Forecast Future Values***\n",
        "\n",
        "Use the fitted model to forecast the test data."
      ],
      "metadata": {
        "id": "7EunaNoDj5qN"
      }
    },
    {
      "cell_type": "code",
      "execution_count": null,
      "metadata": {
        "id": "tH1jbdw0hfGt"
      },
      "outputs": [],
      "source": [
        "# Forecast future values\n",
        "forecast = fitted_model.forecast(steps=len(test_data))\n"
      ]
    },
    {
      "cell_type": "markdown",
      "source": [
        "#***15. Evaluate Forecast Accuracy***\n",
        "\n",
        "Calculate evaluation metrics for the forecast."
      ],
      "metadata": {
        "id": "WZH6QcJ2kBxO"
      }
    },
    {
      "cell_type": "code",
      "execution_count": null,
      "metadata": {
        "id": "hWx7zzYGhfGt"
      },
      "outputs": [],
      "source": [
        "def mean_absolute_percentage_error(y_true, y_pred):\n",
        "    y_true, y_pred = np.array(y_true), np.array(y_pred)\n",
        "    return np.mean(np.abs((y_true - y_pred) / y_true)) * 100"
      ]
    },
    {
      "cell_type": "code",
      "execution_count": null,
      "metadata": {
        "id": "KiOyQVVShfGu",
        "outputId": "9d77dc74-c329-4603-e401-1217fc7622c7"
      },
      "outputs": [
        {
          "name": "stdout",
          "output_type": "stream",
          "text": [
            "Mean Squared Error: 696183.1701139845\n",
            "Mean Absolute Error: 602.5720738103721\n",
            "Root Mean Squared Error: 834.3759165472027\n",
            "Mean Absolute Percentage Error: 24.15152606139085\n",
            "Forecast Accuracy: 75.84847393860915\n"
          ]
        }
      ],
      "source": [
        "# Evaluate the forecast accuracy\n",
        "mse = mean_squared_error(test_data, forecast)\n",
        "mae = mean_absolute_error(test_data, forecast)\n",
        "rmse = np.sqrt(mse)\n",
        "mape = mean_absolute_percentage_error(test_data, forecast)\n",
        "accuracy = 100 - mape\n",
        "\n",
        "print(\"Mean Squared Error:\", mse)\n",
        "print(\"Mean Absolute Error:\", mae)\n",
        "print(\"Root Mean Squared Error:\", rmse)\n",
        "print(\"Mean Absolute Percentage Error:\", mape)\n",
        "print(\"Forecast Accuracy:\", accuracy)"
      ]
    },
    {
      "cell_type": "markdown",
      "source": [
        "#***16. Plot Actual vs. Forecasted Values***\n",
        "\n",
        "Visualize the forecast against actual values."
      ],
      "metadata": {
        "id": "Og2oBP1PkKNH"
      }
    },
    {
      "cell_type": "code",
      "execution_count": null,
      "metadata": {
        "id": "swzoqIwEhfGv",
        "outputId": "766a7dfa-247a-4201-f9e4-a73539f95c2e"
      },
      "outputs": [
        {
          "data": {
            "image/png": "[encoded data removed]",
            "text/plain": [
              "<Figure size 1200x600 with 1 Axes>"
            ]
          },
          "metadata": {},
          "output_type": "display_data"
        }
      ],
      "source": [
        "# Plot the actual vs. forecasted values\n",
        "plt.figure(figsize=(12, 6))\n",
        "plt.plot(test_data.index, test_data, label='Actual', color='blue')\n",
        "plt.plot(test_data.index, forecast, label='Forecast', color='red')\n",
        "plt.title('ARIMA Forecast vs Actual')\n",
        "plt.xlabel('Date')\n",
        "plt.ylabel('Amount')\n",
        "plt.legend()\n",
        "plt.show()\n"
      ]
    },
    {
      "cell_type": "code",
      "execution_count": null,
      "metadata": {
        "id": "ZDgFjuJzhfGw"
      },
      "outputs": [],
      "source": []
    }
  ],
  "metadata": {
    "kernelspec": {
      "display_name": "Python 3",
      "language": "python",
      "name": "python3"
    },
    "language_info": {
      "codemirror_mode": {
        "name": "ipython",
        "version": 3
      },
      "file_extension": ".py",
      "mimetype": "text/x-python",
      "name": "python",
      "nbconvert_exporter": "python",
      "pygments_lexer": "ipython3",
      "version": "3.11.9"
    },
    "colab": {
      "provenance": []
    }
  },
  "nbformat": 4,
  "nbformat_minor": 0
}